{
  "nbformat": 4,
  "nbformat_minor": 0,
  "metadata": {
    "colab": {
      "provenance": []
    },
    "kernelspec": {
      "name": "python3",
      "display_name": "Python 3"
    },
    "language_info": {
      "name": "python"
    }
  },
  "cells": [
    {
      "cell_type": "markdown",
      "source": [
        "# problemas de distribucion binomial y poisson\n",
        "##problema 1\n",
        "###JOSE ANGEL TOCA ZAMORA\n",
        "\n",
        " en este problema es de distribucion de poisson ya que nos dan un promedio conocido de eventos en este caso el promedio conociodo es de 5 personas por dia\n"
      ],
      "metadata": {
        "id": "f2MHrHoHlGgj"
      }
    },
    {
      "cell_type": "code",
      "execution_count": 3,
      "metadata": {
        "id": "p1T5W2_ElEw5",
        "colab": {
          "base_uri": "https://localhost:8080/"
        },
        "outputId": "45666db2-565f-4ba5-ef70-85d7633b209d"
      },
      "outputs": [
        {
          "output_type": "stream",
          "name": "stdout",
          "text": [
            "la probabilidad de que sean mas de 10 ingresados es de  0.013695268598382881\n",
            "la probabilidad de que  sean dos ingresados es de  0.08422433748856832\n",
            "es posible que sean mayor que 10? no\n"
          ]
        }
      ],
      "source": [
        "from scipy.stats import poisson\n",
        "from scipy.stats import binom\n",
        "ingresados=0\n",
        "media=5\n",
        "x=2\n",
        "y=10\n",
        "probabilidad1=poisson.pmf(x,media)\n",
        "probabilidad2=1-poisson.cdf(y,media)\n",
        "print(\"la probabilidad de que sean mas de 10 ingresados es de \" , probabilidad2)\n",
        "print(\"la probabilidad de que  sean dos ingresados es de \", probabilidad1)\n",
        "if(probabilidad2>0.5):\n",
        "    mayor10=\"si\"\n",
        "else:\n",
        "  mayor10=\"no\"\n",
        "print(\"es posible que sean mayor que 10?\", mayor10)"
      ]
    },
    {
      "cell_type": "markdown",
      "source": [
        "##problema 2\n",
        "en esta se usa una distribucion binomial ya que lo que buscamos de encontrar es las probabilidades de un evento y aqui no nos dan una media por eso es una distribucion binomial"
      ],
      "metadata": {
        "id": "dwLXnDDlq_N6"
      }
    },
    {
      "cell_type": "code",
      "source": [
        "no_satisface=0.001\n",
        "motores=1000\n",
        "pro1=0\n",
        "pro2=3\n",
        "pro3=4\n",
        "prob1=binom.pmf(pro1,motores,no_satisface)\n",
        "prob2=binom.pmf(pro2,motores,no_satisface)\n",
        "prob3=binom.pmf(pro3,motores,no_satisface)\n",
        "print(\"probabilidad de que no haya ningun motor defectuoso es de\", prob1)\n",
        "print(\"probabilidad de que haya 3 motores defectuoso: \", prob2)\n",
        "print(\"probabilidad de que haya 4 motores defectuosos \", prob3)"
      ],
      "metadata": {
        "id": "TwG_F8uamV71",
        "colab": {
          "base_uri": "https://localhost:8080/"
        },
        "outputId": "089643f3-f1d1-4e17-a8ea-2fadef8f4636"
      },
      "execution_count": 4,
      "outputs": [
        {
          "output_type": "stream",
          "name": "stdout",
          "text": [
            "probabilidad de que no haya ningun motor defectuoso es de 0.3676954247709639\n",
            "probabilidad de que haya 3 motores defectuoso:  0.061282509389840666\n",
            "probabilidad de que haya 4 motores defectuosos  0.015289955420838651\n"
          ]
        }
      ]
    }
  ]
}