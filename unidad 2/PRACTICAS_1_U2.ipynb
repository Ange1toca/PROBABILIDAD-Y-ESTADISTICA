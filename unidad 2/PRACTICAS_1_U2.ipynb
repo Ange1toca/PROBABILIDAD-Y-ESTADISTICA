{
  "nbformat": 4,
  "nbformat_minor": 0,
  "metadata": {
    "colab": {
      "provenance": []
    },
    "kernelspec": {
      "name": "python3",
      "display_name": "Python 3"
    },
    "language_info": {
      "name": "python"
    }
  },
  "cells": [
    {
      "cell_type": "markdown",
      "source": [
        "# Sección nueva"
      ],
      "metadata": {
        "id": "D7cdntgSwgV4"
      }
    },
    {
      "cell_type": "markdown",
      "source": [
        "# EJEMPLO EN PYTHON"
      ],
      "metadata": {
        "id": "Qb12SA35wmYM"
      }
    },
    {
      "cell_type": "code",
      "execution_count": null,
      "metadata": {
        "id": "6qX4rsTpo3sL"
      },
      "outputs": [],
      "source": [
        "import math as mt\n",
        "from itertools import combinations\n",
        "from itertools import combinations_with_replacement\n",
        "import numpy as np"
      ]
    },
    {
      "cell_type": "code",
      "source": [
        "nombres=['oscar','paco','paty','laura','ruben','luis','lucy','alberto','juan','danny']\n",
        "n=len(nombres)\n",
        "r=2\n",
        "cn = mt.factorial(n)/(mt.factorial(r)* mt.factorial(n-r))\n",
        "print('EXISTEN ', cn , 'posibles combinaciones sin repeticion total de ', n , ' nombres ' , ' en grupos de ', r , 'en', r)\n",
        "print ('combinaciones aqui')\n",
        "combinaciones_nombres=list(combinations(nombres, r))\n",
        "\n",
        "for combinacion in combinaciones_nombres:\n",
        "  print(combinacion)"
      ],
      "metadata": {
        "colab": {
          "base_uri": "https://localhost:8080/"
        },
        "id": "o8xQdPpFp9e-",
        "outputId": "634e1a29-1c3d-4f86-b2dd-ab4dd3403d4d"
      },
      "execution_count": null,
      "outputs": [
        {
          "output_type": "stream",
          "name": "stdout",
          "text": [
            "EXISTEN  45.0 posibles combinaciones sin repeticion total de  10  nombres   en grupos de  2 en 2\n",
            "combinaciones aqui\n",
            "('oscar', 'paco')\n",
            "('oscar', 'paty')\n",
            "('oscar', 'laura')\n",
            "('oscar', 'ruben')\n",
            "('oscar', 'luis')\n",
            "('oscar', 'lucy')\n",
            "('oscar', 'alberto')\n",
            "('oscar', 'juan')\n",
            "('oscar', 'danny')\n",
            "('paco', 'paty')\n",
            "('paco', 'laura')\n",
            "('paco', 'ruben')\n",
            "('paco', 'luis')\n",
            "('paco', 'lucy')\n",
            "('paco', 'alberto')\n",
            "('paco', 'juan')\n",
            "('paco', 'danny')\n",
            "('paty', 'laura')\n",
            "('paty', 'ruben')\n",
            "('paty', 'luis')\n",
            "('paty', 'lucy')\n",
            "('paty', 'alberto')\n",
            "('paty', 'juan')\n",
            "('paty', 'danny')\n",
            "('laura', 'ruben')\n",
            "('laura', 'luis')\n",
            "('laura', 'lucy')\n",
            "('laura', 'alberto')\n",
            "('laura', 'juan')\n",
            "('laura', 'danny')\n",
            "('ruben', 'luis')\n",
            "('ruben', 'lucy')\n",
            "('ruben', 'alberto')\n",
            "('ruben', 'juan')\n",
            "('ruben', 'danny')\n",
            "('luis', 'lucy')\n",
            "('luis', 'alberto')\n",
            "('luis', 'juan')\n",
            "('luis', 'danny')\n",
            "('lucy', 'alberto')\n",
            "('lucy', 'juan')\n",
            "('lucy', 'danny')\n",
            "('alberto', 'juan')\n",
            "('alberto', 'danny')\n",
            "('juan', 'danny')\n"
          ]
        }
      ]
    },
    {
      "cell_type": "markdown",
      "source": [
        "# CARACTERES ALFABETICOS Y DIGITO"
      ],
      "metadata": {
        "id": "KDeyJKzPr5wN"
      }
    },
    {
      "cell_type": "code",
      "source": [
        "caracteres = [\"A\", \"B\", \"C\", \"D\", \"E\", \"F\", \"0\", \"1\", \"2\", \"3\", \"4\", \"5\"]\n",
        "n = len(caracteres)\n",
        "r = 10\n",
        "cn = mt.factorial(n)/(mt.factorial(r)* mt.factorial(n-r))\n",
        "print('EXISTEN ', cn , 'posibles combinaciones sin repeticion total de ', n , ' caracteres ' , ' en grupos de ', r , 'en', r)\n",
        "print('AQUI LAS COMBINACIONES')\n",
        "combinaciones_caracteres=list(combinations(caracteres, r))\n",
        "for combinacion in combinaciones_caracteres:\n",
        "  print(combinacion)"
      ],
      "metadata": {
        "colab": {
          "base_uri": "https://localhost:8080/"
        },
        "id": "B5Odb60dr4Er",
        "outputId": "52cc14aa-ad8d-4c82-933f-d3dd332af9d0"
      },
      "execution_count": null,
      "outputs": [
        {
          "output_type": "stream",
          "name": "stdout",
          "text": [
            "EXISTEN  66.0 posibles combinaciones sin repeticion total de  12  caracteres   en grupos de  10 en 10\n",
            "AQUI LAS COMBINACIONES\n",
            "('A', 'B', 'C', 'D', 'E', 'F', '0', '1', '2', '3')\n",
            "('A', 'B', 'C', 'D', 'E', 'F', '0', '1', '2', '4')\n",
            "('A', 'B', 'C', 'D', 'E', 'F', '0', '1', '2', '5')\n",
            "('A', 'B', 'C', 'D', 'E', 'F', '0', '1', '3', '4')\n",
            "('A', 'B', 'C', 'D', 'E', 'F', '0', '1', '3', '5')\n",
            "('A', 'B', 'C', 'D', 'E', 'F', '0', '1', '4', '5')\n",
            "('A', 'B', 'C', 'D', 'E', 'F', '0', '2', '3', '4')\n",
            "('A', 'B', 'C', 'D', 'E', 'F', '0', '2', '3', '5')\n",
            "('A', 'B', 'C', 'D', 'E', 'F', '0', '2', '4', '5')\n",
            "('A', 'B', 'C', 'D', 'E', 'F', '0', '3', '4', '5')\n",
            "('A', 'B', 'C', 'D', 'E', 'F', '1', '2', '3', '4')\n",
            "('A', 'B', 'C', 'D', 'E', 'F', '1', '2', '3', '5')\n",
            "('A', 'B', 'C', 'D', 'E', 'F', '1', '2', '4', '5')\n",
            "('A', 'B', 'C', 'D', 'E', 'F', '1', '3', '4', '5')\n",
            "('A', 'B', 'C', 'D', 'E', 'F', '2', '3', '4', '5')\n",
            "('A', 'B', 'C', 'D', 'E', '0', '1', '2', '3', '4')\n",
            "('A', 'B', 'C', 'D', 'E', '0', '1', '2', '3', '5')\n",
            "('A', 'B', 'C', 'D', 'E', '0', '1', '2', '4', '5')\n",
            "('A', 'B', 'C', 'D', 'E', '0', '1', '3', '4', '5')\n",
            "('A', 'B', 'C', 'D', 'E', '0', '2', '3', '4', '5')\n",
            "('A', 'B', 'C', 'D', 'E', '1', '2', '3', '4', '5')\n",
            "('A', 'B', 'C', 'D', 'F', '0', '1', '2', '3', '4')\n",
            "('A', 'B', 'C', 'D', 'F', '0', '1', '2', '3', '5')\n",
            "('A', 'B', 'C', 'D', 'F', '0', '1', '2', '4', '5')\n",
            "('A', 'B', 'C', 'D', 'F', '0', '1', '3', '4', '5')\n",
            "('A', 'B', 'C', 'D', 'F', '0', '2', '3', '4', '5')\n",
            "('A', 'B', 'C', 'D', 'F', '1', '2', '3', '4', '5')\n",
            "('A', 'B', 'C', 'D', '0', '1', '2', '3', '4', '5')\n",
            "('A', 'B', 'C', 'E', 'F', '0', '1', '2', '3', '4')\n",
            "('A', 'B', 'C', 'E', 'F', '0', '1', '2', '3', '5')\n",
            "('A', 'B', 'C', 'E', 'F', '0', '1', '2', '4', '5')\n",
            "('A', 'B', 'C', 'E', 'F', '0', '1', '3', '4', '5')\n",
            "('A', 'B', 'C', 'E', 'F', '0', '2', '3', '4', '5')\n",
            "('A', 'B', 'C', 'E', 'F', '1', '2', '3', '4', '5')\n",
            "('A', 'B', 'C', 'E', '0', '1', '2', '3', '4', '5')\n",
            "('A', 'B', 'C', 'F', '0', '1', '2', '3', '4', '5')\n",
            "('A', 'B', 'D', 'E', 'F', '0', '1', '2', '3', '4')\n",
            "('A', 'B', 'D', 'E', 'F', '0', '1', '2', '3', '5')\n",
            "('A', 'B', 'D', 'E', 'F', '0', '1', '2', '4', '5')\n",
            "('A', 'B', 'D', 'E', 'F', '0', '1', '3', '4', '5')\n",
            "('A', 'B', 'D', 'E', 'F', '0', '2', '3', '4', '5')\n",
            "('A', 'B', 'D', 'E', 'F', '1', '2', '3', '4', '5')\n",
            "('A', 'B', 'D', 'E', '0', '1', '2', '3', '4', '5')\n",
            "('A', 'B', 'D', 'F', '0', '1', '2', '3', '4', '5')\n",
            "('A', 'B', 'E', 'F', '0', '1', '2', '3', '4', '5')\n",
            "('A', 'C', 'D', 'E', 'F', '0', '1', '2', '3', '4')\n",
            "('A', 'C', 'D', 'E', 'F', '0', '1', '2', '3', '5')\n",
            "('A', 'C', 'D', 'E', 'F', '0', '1', '2', '4', '5')\n",
            "('A', 'C', 'D', 'E', 'F', '0', '1', '3', '4', '5')\n",
            "('A', 'C', 'D', 'E', 'F', '0', '2', '3', '4', '5')\n",
            "('A', 'C', 'D', 'E', 'F', '1', '2', '3', '4', '5')\n",
            "('A', 'C', 'D', 'E', '0', '1', '2', '3', '4', '5')\n",
            "('A', 'C', 'D', 'F', '0', '1', '2', '3', '4', '5')\n",
            "('A', 'C', 'E', 'F', '0', '1', '2', '3', '4', '5')\n",
            "('A', 'D', 'E', 'F', '0', '1', '2', '3', '4', '5')\n",
            "('B', 'C', 'D', 'E', 'F', '0', '1', '2', '3', '4')\n",
            "('B', 'C', 'D', 'E', 'F', '0', '1', '2', '3', '5')\n",
            "('B', 'C', 'D', 'E', 'F', '0', '1', '2', '4', '5')\n",
            "('B', 'C', 'D', 'E', 'F', '0', '1', '3', '4', '5')\n",
            "('B', 'C', 'D', 'E', 'F', '0', '2', '3', '4', '5')\n",
            "('B', 'C', 'D', 'E', 'F', '1', '2', '3', '4', '5')\n",
            "('B', 'C', 'D', 'E', '0', '1', '2', '3', '4', '5')\n",
            "('B', 'C', 'D', 'F', '0', '1', '2', '3', '4', '5')\n",
            "('B', 'C', 'E', 'F', '0', '1', '2', '3', '4', '5')\n",
            "('B', 'D', 'E', 'F', '0', '1', '2', '3', '4', '5')\n",
            "('C', 'D', 'E', 'F', '0', '1', '2', '3', '4', '5')\n"
          ]
        }
      ]
    },
    {
      "cell_type": "markdown",
      "source": [
        "# COMBINACIONES CON REPETICION\n"
      ],
      "metadata": {
        "id": "d-MUuM6quhQY"
      }
    },
    {
      "cell_type": "code",
      "source": [
        "dado=[1,2,3,4,5,6]\n",
        "n=len(dado)\n",
        "r=2\n",
        "CnR= mt.factorial(n+r-1)/(mt.factorial(r)* mt.factorial((n+r-1)-r))\n",
        "print('EXISTEN ', CnR , 'posibles combinaciones con repeticion total de ', n , ' caracteres ' , ' en grupos de ', r , 'en', r)\n",
        "print('AQUI LAS COMBINACIONES')\n",
        "elementos=[1,2,3,4,5,6]\n",
        "r=2\n",
        "combinaciones_dados=list(combinations_with_replacement(dado,r))\n",
        "for combinacion in combinaciones_dados:\n",
        "  print(combinacion)"
      ],
      "metadata": {
        "colab": {
          "base_uri": "https://localhost:8080/"
        },
        "id": "3rJYIz55uegL",
        "outputId": "834e92c7-c6cb-4bf9-fa7b-929b7e504f74"
      },
      "execution_count": null,
      "outputs": [
        {
          "output_type": "stream",
          "name": "stdout",
          "text": [
            "EXISTEN  21.0 posibles combinaciones con repeticion total de  6  caracteres   en grupos de  2 en 2\n",
            "AQUI LAS COMBINACIONES\n",
            "(1, 1)\n",
            "(1, 2)\n",
            "(1, 3)\n",
            "(1, 4)\n",
            "(1, 5)\n",
            "(1, 6)\n",
            "(2, 2)\n",
            "(2, 3)\n",
            "(2, 4)\n",
            "(2, 5)\n",
            "(2, 6)\n",
            "(3, 3)\n",
            "(3, 4)\n",
            "(3, 5)\n",
            "(3, 6)\n",
            "(4, 4)\n",
            "(4, 5)\n",
            "(4, 6)\n",
            "(5, 5)\n",
            "(5, 6)\n",
            "(6, 6)\n"
          ]
        }
      ]
    }
  ]
}