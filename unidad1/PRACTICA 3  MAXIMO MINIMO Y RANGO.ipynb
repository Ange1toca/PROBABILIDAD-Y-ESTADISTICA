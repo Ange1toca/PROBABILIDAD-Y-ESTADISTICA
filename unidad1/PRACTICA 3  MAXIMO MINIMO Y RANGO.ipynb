{
  "nbformat": 4,
  "nbformat_minor": 0,
  "metadata": {
    "colab": {
      "provenance": []
    },
    "kernelspec": {
      "name": "python3",
      "display_name": "Python 3"
    },
    "language_info": {
      "name": "python"
    }
  },
  "cells": [
    {
      "cell_type": "code",
      "execution_count": 1,
      "metadata": {
        "id": "h9DQQUgUUduQ"
      },
      "outputs": [],
      "source": [
        "from statistics import*"
      ]
    },
    {
      "cell_type": "code",
      "source": [
        "grupoa=[70,70,65,90,100,95,45,80,73,20,100,96]\n",
        "print(grupoa)"
      ],
      "metadata": {
        "colab": {
          "base_uri": "https://localhost:8080/"
        },
        "id": "haWEcaaGWPkT",
        "outputId": "e25a1e71-a489-40d6-9ac2-6d2cd9033bab"
      },
      "execution_count": 2,
      "outputs": [
        {
          "output_type": "stream",
          "name": "stdout",
          "text": [
            "[70, 70, 65, 90, 100, 95, 45, 80, 73, 20, 100, 96]\n"
          ]
        }
      ]
    },
    {
      "cell_type": "code",
      "source": [
        "promedio=sum(grupoa)/len(grupoa)\n",
        "print(promedio)"
      ],
      "metadata": {
        "colab": {
          "base_uri": "https://localhost:8080/"
        },
        "id": "1ZrTOjWGWmgL",
        "outputId": "ff052070-4d3d-4098-abf8-52714ce33c7b"
      },
      "execution_count": 3,
      "outputs": [
        {
          "output_type": "stream",
          "name": "stdout",
          "text": [
            "75.33333333333333\n"
          ]
        }
      ]
    },
    {
      "cell_type": "code",
      "source": [
        "mediana=median(grupoa)\n",
        "print(mediana)"
      ],
      "metadata": {
        "colab": {
          "base_uri": "https://localhost:8080/"
        },
        "id": "V7XeI-HxW7Hh",
        "outputId": "7b7e1268-9d39-403a-e1ef-da4f52679c7c"
      },
      "execution_count": 4,
      "outputs": [
        {
          "output_type": "stream",
          "name": "stdout",
          "text": [
            "76.5\n"
          ]
        }
      ]
    },
    {
      "cell_type": "code",
      "source": [
        "moda= mode(grupoa)\n",
        "print(moda)"
      ],
      "metadata": {
        "colab": {
          "base_uri": "https://localhost:8080/"
        },
        "id": "HMRJX1cyXdyo",
        "outputId": "2a145b4f-8afb-4ba5-b864-2366555f6b8b"
      },
      "execution_count": 5,
      "outputs": [
        {
          "output_type": "stream",
          "name": "stdout",
          "text": [
            "70\n"
          ]
        }
      ]
    },
    {
      "cell_type": "code",
      "source": [
        "#ejemplo dos\n",
        "tiempo100mt=[15.10,17.20,14.69,13.27,22.15,18.71,19.15,20.65,15.10,17.20]\n",
        "print(tiempo100mt)"
      ],
      "metadata": {
        "colab": {
          "base_uri": "https://localhost:8080/"
        },
        "id": "Sk2tIuFdXwJY",
        "outputId": "b6dfce42-85d6-40ef-c8d9-bb4081ac7d64"
      },
      "execution_count": 6,
      "outputs": [
        {
          "output_type": "stream",
          "name": "stdout",
          "text": [
            "[15.1, 17.2, 14.69, 13.27, 22.15, 18.71, 19.15, 20.65, 15.1, 17.2]\n"
          ]
        }
      ]
    },
    {
      "cell_type": "code",
      "source": [
        "print(\"el tiempo promedio de los corredores es de\", mean(tiempo100mt)  )"
      ],
      "metadata": {
        "colab": {
          "base_uri": "https://localhost:8080/"
        },
        "id": "WZ7nwL_7ZK_6",
        "outputId": "3066a1cb-9959-4fa0-a817-5e57010e082f"
      },
      "execution_count": 7,
      "outputs": [
        {
          "output_type": "stream",
          "name": "stdout",
          "text": [
            "el tiempo promedio de los corredores es de 17.322\n"
          ]
        }
      ]
    },
    {
      "cell_type": "code",
      "source": [
        "mediana=median(tiempo100mt)\n",
        "print(\"la media de los tiempos de los corredores es\", mediana)"
      ],
      "metadata": {
        "colab": {
          "base_uri": "https://localhost:8080/"
        },
        "id": "kwCyVxBOaJvz",
        "outputId": "221c267b-8298-432f-d9ed-c2558379ff8c"
      },
      "execution_count": 8,
      "outputs": [
        {
          "output_type": "stream",
          "name": "stdout",
          "text": [
            "la media de los tiempos de los corredores es 17.2\n"
          ]
        }
      ]
    },
    {
      "cell_type": "code",
      "source": [
        "moda=mode(tiempo100mt)\n",
        "print(\"la moda de los tiempos es\", moda)"
      ],
      "metadata": {
        "id": "Hh7Xtx7JapWy",
        "colab": {
          "base_uri": "https://localhost:8080/"
        },
        "outputId": "47457d51-eea3-4d11-89d0-cddbcd907dad"
      },
      "execution_count": 9,
      "outputs": [
        {
          "output_type": "stream",
          "name": "stdout",
          "text": [
            "la moda de los tiempos es 15.1\n"
          ]
        }
      ]
    },
    {
      "cell_type": "code",
      "source": [
        "multimodas=multimode(tiempo100mt)\n",
        "print(\"las modas de los tiempos es\", multimodas)"
      ],
      "metadata": {
        "id": "VOoObXoSbIgB",
        "colab": {
          "base_uri": "https://localhost:8080/"
        },
        "outputId": "1ef521db-3fde-4d54-e4ce-4ffb3ec132ea"
      },
      "execution_count": 10,
      "outputs": [
        {
          "output_type": "stream",
          "name": "stdout",
          "text": [
            "las modas de los tiempos es [15.1, 17.2]\n"
          ]
        }
      ]
    },
    {
      "cell_type": "markdown",
      "source": [
        "## ejemplo 3 histogramas de dos grupos\n",
        "1. en este ejemplo creamos una lista de 100 numeros reales que represetan la produccion diaria de 100 telares(mediads en metros)\n",
        "2. generamos otra lista con la produccion de 100 telares para una segunda fabrica\n",
        "3. con estas listas de valores se pretende determinar las medias de tendencia central es decir la medi, la moda y la mediana y la desviacion estandar\n",
        "4. graficar un histograma para cada fabrica"
      ],
      "metadata": {
        "id": "ecNlumSMbmey"
      }
    },
    {
      "cell_type": "code",
      "source": [
        "import random"
      ],
      "metadata": {
        "id": "KJqEOU1XbyWp"
      },
      "execution_count": 11,
      "outputs": []
    },
    {
      "cell_type": "code",
      "source": [
        "fabrica1=[]\n",
        "for i in range(100):\n",
        "  numero_aletorio=round(random.uniform(50,100),2)\n",
        "  fabrica1.append(numero_aletorio)\n",
        "print(fabrica1)"
      ],
      "metadata": {
        "colab": {
          "base_uri": "https://localhost:8080/"
        },
        "id": "qmplYEs4cBY5",
        "outputId": "645e0264-a6db-4514-90eb-e8cfb55b4939"
      },
      "execution_count": 12,
      "outputs": [
        {
          "output_type": "stream",
          "name": "stdout",
          "text": [
            "[94.27, 84.87, 85.19, 78.61, 82.82, 98.39, 65.25, 84.15, 95.56, 81.24, 83.42, 87.62, 73.92, 82.48, 58.53, 77.66, 78.55, 81.13, 59.12, 50.82, 65.62, 99.58, 65.45, 86.7, 93.83, 54.5, 56.56, 53.19, 92.04, 50.95, 67.26, 74.89, 73.68, 83.14, 75.15, 89.33, 84.86, 79.69, 78.01, 85.3, 68.43, 69.77, 67.78, 73.37, 77.59, 57.51, 72.53, 72.22, 89.3, 53.23, 51.8, 82.5, 75.49, 86.81, 55.72, 68.4, 68.04, 66.27, 80.77, 97.88, 57.29, 76.65, 93.87, 59.04, 90.85, 52.54, 84.13, 58.37, 84.84, 91.69, 90.59, 83.41, 80.99, 96.53, 60.12, 70.6, 69.97, 80.77, 73.7, 74.62, 91.95, 80.16, 59.29, 62.27, 82.36, 67.34, 64.61, 56.96, 67.51, 77.55, 83.31, 72.83, 71.01, 94.92, 66.61, 70.95, 97.66, 55.8, 91.47, 61.25]\n"
          ]
        }
      ]
    },
    {
      "cell_type": "code",
      "source": [
        "fabrica2=[]\n",
        "for i in range(100):\n",
        "  numero_aletorio=round(random.uniform(50,100),2)\n",
        "  fabrica2.append(numero_aletorio)\n",
        "print(fabrica2)"
      ],
      "metadata": {
        "colab": {
          "base_uri": "https://localhost:8080/"
        },
        "outputId": "9b4b63b9-7e48-4866-a4b7-d670890807bb",
        "id": "uSbzyXYleiM_"
      },
      "execution_count": 13,
      "outputs": [
        {
          "output_type": "stream",
          "name": "stdout",
          "text": [
            "[57.17, 78.77, 79.01, 71.02, 79.7, 95.07, 64.36, 59.55, 97.94, 57.53, 58.45, 77.46, 77.1, 78.84, 61.97, 61.02, 93.74, 78.05, 90.74, 92.01, 69.1, 84.84, 89.42, 91.84, 61.44, 58.42, 58.55, 65.48, 79.46, 64.33, 54.08, 87.01, 81.59, 57.74, 57.25, 94.77, 79.06, 84.5, 70.03, 96.27, 50.42, 51.36, 61.56, 87.11, 98.4, 50.51, 64.47, 60.07, 87.2, 82.55, 83.17, 75.39, 58.01, 83.53, 67.31, 64.77, 78.43, 90.4, 88.37, 67.01, 70.54, 72.68, 89.51, 72.76, 52.73, 76.53, 79.81, 92.88, 96.81, 61.29, 83.38, 90.67, 55.02, 72.51, 60.9, 75.13, 97.62, 95.04, 54.72, 62.7, 65.39, 78.79, 99.72, 66.25, 52.0, 96.87, 88.62, 59.79, 89.77, 58.7, 95.51, 90.14, 86.9, 62.61, 84.46, 83.41, 62.52, 59.97, 54.54, 78.43]\n"
          ]
        }
      ]
    },
    {
      "cell_type": "code",
      "source": [
        "import matplotlib.pyplot as plt"
      ],
      "metadata": {
        "id": "6UTT7LRyez-7"
      },
      "execution_count": 14,
      "outputs": []
    },
    {
      "cell_type": "code",
      "source": [
        "plt.hist(fabrica1)\n",
        "plt.title(\"histograma fabrica 1\")"
      ],
      "metadata": {
        "colab": {
          "base_uri": "https://localhost:8080/",
          "height": 469
        },
        "id": "9-Pg4ACkfB_C",
        "outputId": "a66c3303-9e3c-402e-815e-f25d1ce0d32a"
      },
      "execution_count": 15,
      "outputs": [
        {
          "output_type": "execute_result",
          "data": {
            "text/plain": [
              "Text(0.5, 1.0, 'histograma fabrica 1')"
            ]
          },
          "metadata": {},
          "execution_count": 15
        },
        {
          "output_type": "display_data",
          "data": {
            "text/plain": [
              "<Figure size 640x480 with 1 Axes>"
            ],
            "image/png": "[encoded data removed]"
          },
          "metadata": {}
        }
      ]
    },
    {
      "cell_type": "code",
      "source": [],
      "metadata": {
        "id": "NZeyRZqtfOp7"
      },
      "execution_count": 15,
      "outputs": []
    },
    {
      "cell_type": "code",
      "source": [
        "plt.hist(fabrica2)\n",
        "plt.title(\"histograma fabrica 2\")"
      ],
      "metadata": {
        "colab": {
          "base_uri": "https://localhost:8080/",
          "height": 469
        },
        "outputId": "531b817a-6e50-4f77-a1db-9e1b3fc030ee",
        "id": "H9mkCD3kfvFV"
      },
      "execution_count": 16,
      "outputs": [
        {
          "output_type": "execute_result",
          "data": {
            "text/plain": [
              "Text(0.5, 1.0, 'histograma fabrica 2')"
            ]
          },
          "metadata": {},
          "execution_count": 16
        },
        {
          "output_type": "display_data",
          "data": {
            "text/plain": [
              "<Figure size 640x480 with 1 Axes>"
            ],
            "image/png": "[encoded data removed]"
          },
          "metadata": {}
        }
      ]
    },
    {
      "cell_type": "code",
      "source": [
        "media =mean (fabrica1)\n",
        "mediana=median(fabrica1)\n",
        "moda=mode(fabrica1)\n",
        "print(\"valores de la fabrica 1\")\n",
        "print(\"la media es\",media)\n",
        "print(\"la mediana es\",mediana)\n",
        "print(\"la moda es\",moda)"
      ],
      "metadata": {
        "colab": {
          "base_uri": "https://localhost:8080/"
        },
        "id": "3kDaz810f285",
        "outputId": "f692abca-3df5-45e5-8b16-079f26ef100d"
      },
      "execution_count": 17,
      "outputs": [
        {
          "output_type": "stream",
          "name": "stdout",
          "text": [
            "valores de la fabrica 1\n",
            "la media es 75.3512\n",
            "la mediana es 76.07\n",
            "la moda es 80.77\n"
          ]
        }
      ]
    },
    {
      "cell_type": "code",
      "source": [
        "media =mean (fabrica2)\n",
        "mediana=median(fabrica2)\n",
        "moda=mode(fabrica2)\n",
        "print(\"valores de la fabrica 2\")\n",
        "print(\"la media es\",media)\n",
        "print(\"la mediana es\",mediana)\n",
        "print(\"la moda es\",moda)"
      ],
      "metadata": {
        "colab": {
          "base_uri": "https://localhost:8080/"
        },
        "id": "VTZhtt_Wgop7",
        "outputId": "7f930f4a-ac39-4953-93b3-1fabc9757372"
      },
      "execution_count": 18,
      "outputs": [
        {
          "output_type": "stream",
          "name": "stdout",
          "text": [
            "valores de la fabrica 2\n",
            "la media es 74.7234\n",
            "la mediana es 76.815\n",
            "la moda es 78.43\n"
          ]
        }
      ]
    },
    {
      "cell_type": "code",
      "source": [
        "fig,(ax1,ax2)=plt.subplots(nrows=1, ncols=2)"
      ],
      "metadata": {
        "colab": {
          "base_uri": "https://localhost:8080/",
          "height": 435
        },
        "id": "MFUne9RYhEXR",
        "outputId": "4d11475c-7553-428d-a3e9-54e0dae31247"
      },
      "execution_count": 19,
      "outputs": [
        {
          "output_type": "display_data",
          "data": {
            "text/plain": [
              "<Figure size 640x480 with 2 Axes>"
            ],
            "image/png": "[encoded data removed]"
          },
          "metadata": {}
        }
      ]
    },
    {
      "cell_type": "code",
      "source": [
        "fig,(ax1,ax2)=plt.subplots(nrows=1, ncols=2, figsize=(10,5))\n",
        "ax1.hist(fabrica1)\n",
        "ax2.hist(fabrica2)\n",
        "plt.show()"
      ],
      "metadata": {
        "id": "WcHD1CmSsx7d",
        "colab": {
          "base_uri": "https://localhost:8080/",
          "height": 445
        },
        "outputId": "ca5c6aa1-8ce0-4bc5-b8bc-9452812bf3dd"
      },
      "execution_count": 20,
      "outputs": [
        {
          "output_type": "display_data",
          "data": {
            "text/plain": [
              "<Figure size 1000x500 with 2 Axes>"
            ],
            "image/png": "[encoded data removed]"
          },
          "metadata": {}
        }
      ]
    },
    {
      "cell_type": "code",
      "source": [
        "media1 =mean (fabrica1)\n",
        "mediana1=median(fabrica1)\n",
        "moda1=mode(fabrica1)\n",
        "plt.hist(fabrica1, bins=10, alpha=0.2,color=\"b\", edgecolor=\"black\")\n",
        "plt.axvline(media1, color=\"b\", linestyle=\"dashed\", linewidth=2, label=\"media\")\n",
        "plt.axvline(mediana1, color=\"r\", linestyle=\"dashed\", linewidth=2, label=\"mediana\")\n",
        "plt.axvline(moda1, color=\"y\", linestyle=\"dashed\", linewidth=2, label=\"moda\")\n",
        "plt.xlabel=(\"valor\")\n",
        "plt.ylabel=(\"frecuencia\")\n",
        "plt.title(\"producion de la fabrica 1\")\n",
        "plt.legend()\n",
        "plt.show()"
      ],
      "metadata": {
        "colab": {
          "base_uri": "https://localhost:8080/",
          "height": 452
        },
        "id": "XL9Ol8RHoMXH",
        "outputId": "56832882-388b-456c-c711-e6f5b0b0cb40"
      },
      "execution_count": 21,
      "outputs": [
        {
          "output_type": "display_data",
          "data": {
            "text/plain": [
              "<Figure size 640x480 with 1 Axes>"
            ],
            "image/png": "[encoded data removed]"
          },
          "metadata": {}
        }
      ]
    },
    {
      "cell_type": "code",
      "source": [
        "media2 =mean (fabrica2)\n",
        "mediana2=median(fabrica2)\n",
        "moda2=mode(fabrica2)\n",
        "plt.hist(fabrica2, bins=10, alpha=0.2,color=\"b\", edgecolor=\"black\")\n",
        "plt.axvline(media2, color=\"b\", linestyle=\"dashed\", linewidth=2, label=\"media\")\n",
        "plt.axvline(mediana2, color=\"r\", linestyle=\"dashed\", linewidth=2, label=\"mediana\")\n",
        "plt.axvline(moda2, color=\"y\", linestyle=\"dashed\", linewidth=2, label=\"moda\")\n",
        "plt.xlabel=(\"valor\")\n",
        "plt.ylabel=(\"frecuencia\")\n",
        "plt.title(\"producion de la fabrica 2\")\n",
        "plt.legend()\n",
        "plt.show()"
      ],
      "metadata": {
        "colab": {
          "base_uri": "https://localhost:8080/",
          "height": 452
        },
        "id": "uNs_Y-S7uchB",
        "outputId": "43975c51-d440-4653-a076-e0b1697e8249"
      },
      "execution_count": 22,
      "outputs": [
        {
          "output_type": "display_data",
          "data": {
            "text/plain": [
              "<Figure size 640x480 with 1 Axes>"
            ],
            "image/png": "[encoded data removed]"
          },
          "metadata": {}
        }
      ]
    },
    {
      "cell_type": "markdown",
      "source": [
        "##maximo, minimo y rango\n"
      ],
      "metadata": {
        "id": "lWBEuj5Do3ox"
      }
    },
    {
      "cell_type": "code",
      "source": [
        "maximo= max(fabrica1)\n",
        "minimo=min(fabrica1)\n",
        "rango= maximo-minimo\n",
        "media=mean(fabrica1)\n",
        "moda=mode(fabrica1)\n",
        "mediana=median(fabrica1)\n",
        "print(\"esrtadistica descriptiva de la fabrica 1\\n\",\"media=\", media,\"\\n mediana\",mediana,\"\\n moda\", moda,\"\\n maximo\", maximo,\"\\n rango\", rango,\"\\n minimo\",minimo2)"
      ],
      "metadata": {
        "colab": {
          "base_uri": "https://localhost:8080/"
        },
        "id": "d0NpvhLMo9IE",
        "outputId": "b5355f11-2813-4477-8eb9-6c934c229dbb"
      },
      "execution_count": 27,
      "outputs": [
        {
          "output_type": "stream",
          "name": "stdout",
          "text": [
            "esrtadistica descriptiva de la fabrica 1\n",
            " media= 75.3512 \n",
            " mediana 76.07 \n",
            " moda 80.77 \n",
            " maximo 99.58 \n",
            " rango 48.76 \n",
            " minimo 50.42\n"
          ]
        }
      ]
    },
    {
      "cell_type": "code",
      "source": [],
      "metadata": {
        "id": "UYdH2Earq_Ji"
      },
      "execution_count": null,
      "outputs": []
    },
    {
      "cell_type": "code",
      "source": [
        "maximo2= max(fabrica2)\n",
        "minimo2=min(fabrica2)\n",
        "rango2= maximo-minimo\n",
        "media2=mean(fabrica2)\n",
        "moda2=mode(fabrica2)\n",
        "mediana2=median(fabrica2)\n",
        "print(\"esrtadistica descriptiva de la fabrica 1\\n\",\"media=\", media2,\"\\n mediana\",mediana2,\"\\n moda\", moda2,\"\\n maximo\", maximo2,\"\\n rango\", rango2,\"\\n minimo\",minimo2)"
      ],
      "metadata": {
        "colab": {
          "base_uri": "https://localhost:8080/"
        },
        "outputId": "d2fea31a-5f7b-4a82-cc4e-67b38b7374e8",
        "id": "Npr1FXscrFXt"
      },
      "execution_count": 26,
      "outputs": [
        {
          "output_type": "stream",
          "name": "stdout",
          "text": [
            "esrtadistica descriptiva de la fabrica 1\n",
            " media= 74.7234 \n",
            " mediana 76.815 \n",
            " moda 78.43 \n",
            " maximo 99.72 \n",
            " rango 48.76 \n",
            " minimo 50.42\n"
          ]
        }
      ]
    },
    {
      "cell_type": "code",
      "source": [],
      "metadata": {
        "id": "ARp2A5ifrmJt"
      },
      "execution_count": null,
      "outputs": []
    }
  ]
}