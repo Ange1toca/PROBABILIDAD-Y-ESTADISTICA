{
  "nbformat": 4,
  "nbformat_minor": 0,
  "metadata": {
    "colab": {
      "provenance": []
    },
    "kernelspec": {
      "name": "python3",
      "display_name": "Python 3"
    },
    "language_info": {
      "name": "python"
    }
  },
  "cells": [
    {
      "cell_type": "code",
      "execution_count": 74,
      "metadata": {
        "id": "h9DQQUgUUduQ"
      },
      "outputs": [],
      "source": [
        "from statistics import*"
      ]
    },
    {
      "cell_type": "code",
      "source": [
        "grupoa=[70,70,65,90,100,95,45,80,73,20,100,96]\n",
        "print(grupoa)"
      ],
      "metadata": {
        "colab": {
          "base_uri": "https://localhost:8080/"
        },
        "id": "haWEcaaGWPkT",
        "outputId": "cbc5091f-47b9-4577-dd3b-e8110f07ae13"
      },
      "execution_count": 75,
      "outputs": [
        {
          "output_type": "stream",
          "name": "stdout",
          "text": [
            "[70, 70, 65, 90, 100, 95, 45, 80, 73, 20, 100, 96]\n"
          ]
        }
      ]
    },
    {
      "cell_type": "code",
      "source": [
        "promedio=sum(grupoa)/len(grupoa)\n",
        "print(promedio)"
      ],
      "metadata": {
        "colab": {
          "base_uri": "https://localhost:8080/"
        },
        "id": "1ZrTOjWGWmgL",
        "outputId": "56cd5671-4f00-4128-a42c-5a5f8139cc27"
      },
      "execution_count": 76,
      "outputs": [
        {
          "output_type": "stream",
          "name": "stdout",
          "text": [
            "75.33333333333333\n"
          ]
        }
      ]
    },
    {
      "cell_type": "code",
      "source": [
        "mediana=median(grupoa)\n",
        "print(mediana)"
      ],
      "metadata": {
        "colab": {
          "base_uri": "https://localhost:8080/"
        },
        "id": "V7XeI-HxW7Hh",
        "outputId": "0c7e9099-66fc-4988-a0b3-e21237e410bc"
      },
      "execution_count": 77,
      "outputs": [
        {
          "output_type": "stream",
          "name": "stdout",
          "text": [
            "76.5\n"
          ]
        }
      ]
    },
    {
      "cell_type": "code",
      "source": [
        "moda= mode(grupoa)\n",
        "print(moda)"
      ],
      "metadata": {
        "colab": {
          "base_uri": "https://localhost:8080/"
        },
        "id": "HMRJX1cyXdyo",
        "outputId": "2d6902df-e405-4d94-e09c-5bd06898e1bd"
      },
      "execution_count": 78,
      "outputs": [
        {
          "output_type": "stream",
          "name": "stdout",
          "text": [
            "70\n"
          ]
        }
      ]
    },
    {
      "cell_type": "code",
      "source": [
        "#ejemplo dos\n",
        "tiempo100mt=[15.10,17.20,14.69,13.27,22.15,18.71,19.15,20.65,15.10,17.20]\n",
        "print(tiempo100mt)"
      ],
      "metadata": {
        "colab": {
          "base_uri": "https://localhost:8080/"
        },
        "id": "Sk2tIuFdXwJY",
        "outputId": "96c4a6a6-7b03-4264-80d6-f0c2cd9c9066"
      },
      "execution_count": 79,
      "outputs": [
        {
          "output_type": "stream",
          "name": "stdout",
          "text": [
            "[15.1, 17.2, 14.69, 13.27, 22.15, 18.71, 19.15, 20.65, 15.1, 17.2]\n"
          ]
        }
      ]
    },
    {
      "cell_type": "code",
      "source": [
        "print(\"el tiempo promedio de los corredores es de\", mean(tiempo100mt)  )"
      ],
      "metadata": {
        "colab": {
          "base_uri": "https://localhost:8080/"
        },
        "id": "WZ7nwL_7ZK_6",
        "outputId": "413f5b28-38fa-443b-ad91-3c028904e6dd"
      },
      "execution_count": 80,
      "outputs": [
        {
          "output_type": "stream",
          "name": "stdout",
          "text": [
            "el tiempo promedio de los corredores es de 17.322\n"
          ]
        }
      ]
    },
    {
      "cell_type": "code",
      "source": [
        "mediana=median(tiempo100mt)\n",
        "print(\"la media de los tiempos de los corredores es\", mediana)"
      ],
      "metadata": {
        "colab": {
          "base_uri": "https://localhost:8080/"
        },
        "id": "kwCyVxBOaJvz",
        "outputId": "f333475d-6704-4d30-bd49-2be4a568082f"
      },
      "execution_count": 81,
      "outputs": [
        {
          "output_type": "stream",
          "name": "stdout",
          "text": [
            "la media de los tiempos de los corredores es 17.2\n"
          ]
        }
      ]
    },
    {
      "cell_type": "code",
      "source": [
        "moda=mode(tiempo100mt)\n",
        "print(\"la moda de los tiempos es\", moda)"
      ],
      "metadata": {
        "id": "Hh7Xtx7JapWy",
        "colab": {
          "base_uri": "https://localhost:8080/"
        },
        "outputId": "f8104b62-8fc8-438a-d391-3ba44d37e74f"
      },
      "execution_count": 82,
      "outputs": [
        {
          "output_type": "stream",
          "name": "stdout",
          "text": [
            "la moda de los tiempos es 15.1\n"
          ]
        }
      ]
    },
    {
      "cell_type": "code",
      "source": [
        "multimodas=multimode(tiempo100mt)\n",
        "print(\"las modas de los tiempos es\", multimodas)"
      ],
      "metadata": {
        "id": "VOoObXoSbIgB",
        "colab": {
          "base_uri": "https://localhost:8080/"
        },
        "outputId": "156ee17f-6a83-4dc9-96ea-d6b3a96d2355"
      },
      "execution_count": 83,
      "outputs": [
        {
          "output_type": "stream",
          "name": "stdout",
          "text": [
            "las modas de los tiempos es [15.1, 17.2]\n"
          ]
        }
      ]
    },
    {
      "cell_type": "markdown",
      "source": [
        "## ejemplo 3 histogramas de dos grupos\n",
        "1. en este ejemplo creamos una lista de 100 numeros reales que represetan la produccion diaria de 100 telares(mediads en metros)\n",
        "2. generamos otra lista con la produccion de 100 telares para una segunda fabrica\n",
        "3. con estas listas de valores se pretende determinar las medias de tendencia central es decir la medi, la moda y la mediana y la desviacion estandar\n",
        "4. graficar un histograma para cada fabrica"
      ],
      "metadata": {
        "id": "ecNlumSMbmey"
      }
    },
    {
      "cell_type": "code",
      "source": [
        "import random"
      ],
      "metadata": {
        "id": "KJqEOU1XbyWp"
      },
      "execution_count": 84,
      "outputs": []
    },
    {
      "cell_type": "code",
      "source": [
        "fabrica1=[]\n",
        "for i in range(100):\n",
        "  numero_aletorio=round(random.uniform(50,100),2)\n",
        "  fabrica1.append(numero_aletorio)\n",
        "print(fabrica1)"
      ],
      "metadata": {
        "colab": {
          "base_uri": "https://localhost:8080/"
        },
        "id": "qmplYEs4cBY5",
        "outputId": "1616bac3-d6c0-4f40-8198-44d3ff516b26"
      },
      "execution_count": 85,
      "outputs": [
        {
          "output_type": "stream",
          "name": "stdout",
          "text": [
            "[82.17, 85.14, 86.1, 88.65, 53.29, 77.43, 91.16, 72.79, 55.01, 92.14, 80.9, 65.3, 57.17, 83.45, 66.79, 82.03, 90.2, 95.24, 87.77, 77.49, 94.65, 76.62, 82.22, 82.71, 89.98, 66.0, 95.31, 80.96, 90.73, 99.6, 56.95, 61.96, 69.85, 89.48, 57.52, 88.47, 83.47, 67.24, 59.36, 95.92, 58.43, 94.5, 83.56, 87.42, 69.67, 87.72, 96.15, 74.28, 65.96, 62.66, 84.17, 73.14, 87.31, 83.81, 51.51, 53.67, 51.48, 66.4, 87.29, 75.84, 79.91, 55.0, 78.81, 56.1, 83.77, 76.25, 89.01, 64.24, 92.61, 80.53, 69.46, 66.75, 59.05, 64.09, 56.51, 67.91, 50.06, 51.61, 76.48, 89.91, 84.15, 80.72, 76.44, 60.34, 57.01, 61.29, 98.42, 89.44, 96.99, 67.21, 86.98, 55.79, 52.29, 72.8, 76.5, 99.29, 98.42, 66.17, 67.77, 75.06]\n"
          ]
        }
      ]
    },
    {
      "cell_type": "code",
      "source": [
        "fabrica2=[]\n",
        "for i in range(100):\n",
        "  numero_aletorio=round(random.uniform(50,100),2)\n",
        "  fabrica2.append(numero_aletorio)\n",
        "print(fabrica2)"
      ],
      "metadata": {
        "colab": {
          "base_uri": "https://localhost:8080/"
        },
        "outputId": "379cdd8f-a379-4585-f717-77982029274d",
        "id": "uSbzyXYleiM_"
      },
      "execution_count": 86,
      "outputs": [
        {
          "output_type": "stream",
          "name": "stdout",
          "text": [
            "[65.67, 64.15, 66.55, 81.62, 76.41, 71.86, 54.28, 71.24, 92.33, 85.66, 93.63, 60.17, 71.46, 69.59, 58.71, 91.04, 62.48, 53.34, 87.39, 96.1, 99.35, 51.5, 63.74, 84.98, 70.97, 64.05, 95.75, 54.24, 52.46, 61.59, 99.07, 61.49, 73.52, 63.32, 55.21, 98.63, 96.99, 64.73, 57.81, 96.28, 94.57, 74.24, 97.71, 86.01, 67.81, 82.11, 67.95, 50.28, 73.36, 97.31, 52.02, 98.55, 65.53, 87.3, 53.16, 94.11, 83.42, 98.13, 90.92, 64.05, 64.56, 87.77, 82.68, 86.07, 50.85, 51.61, 83.2, 52.28, 89.78, 95.04, 58.88, 89.44, 92.0, 87.4, 78.2, 73.26, 89.69, 88.13, 84.6, 88.02, 74.21, 60.88, 99.69, 86.92, 56.93, 92.43, 80.43, 87.09, 88.51, 64.49, 54.89, 66.55, 71.42, 89.14, 75.29, 65.87, 55.58, 58.41, 84.56, 74.23]\n"
          ]
        }
      ]
    },
    {
      "cell_type": "code",
      "source": [
        "import matplotlib.pyplot as plt"
      ],
      "metadata": {
        "id": "6UTT7LRyez-7"
      },
      "execution_count": 87,
      "outputs": []
    },
    {
      "cell_type": "code",
      "source": [
        "plt.hist(fabrica1)\n",
        "plt.title(\"histograma fabrica 1\")"
      ],
      "metadata": {
        "colab": {
          "base_uri": "https://localhost:8080/",
          "height": 469
        },
        "id": "9-Pg4ACkfB_C",
        "outputId": "19abefb0-f0aa-4b51-b74b-afca31412cdb"
      },
      "execution_count": 88,
      "outputs": [
        {
          "output_type": "execute_result",
          "data": {
            "text/plain": [
              "Text(0.5, 1.0, 'histograma fabrica 1')"
            ]
          },
          "metadata": {},
          "execution_count": 88
        },
        {
          "output_type": "display_data",
          "data": {
            "text/plain": [
              "<Figure size 640x480 with 1 Axes>"
            ],
            "image/png": "[encoded data removed]"
          },
          "metadata": {}
        }
      ]
    },
    {
      "cell_type": "code",
      "source": [],
      "metadata": {
        "id": "NZeyRZqtfOp7"
      },
      "execution_count": 88,
      "outputs": []
    },
    {
      "cell_type": "code",
      "source": [
        "plt.hist(fabrica2)\n",
        "plt.title(\"histograma fabrica 2\")"
      ],
      "metadata": {
        "colab": {
          "base_uri": "https://localhost:8080/",
          "height": 469
        },
        "outputId": "aecb5758-9efc-478c-e8e0-4de6f2ddef4f",
        "id": "H9mkCD3kfvFV"
      },
      "execution_count": 89,
      "outputs": [
        {
          "output_type": "execute_result",
          "data": {
            "text/plain": [
              "Text(0.5, 1.0, 'histograma fabrica 2')"
            ]
          },
          "metadata": {},
          "execution_count": 89
        },
        {
          "output_type": "display_data",
          "data": {
            "text/plain": [
              "<Figure size 640x480 with 1 Axes>"
            ],
            "image/png": "[encoded data removed]"
          },
          "metadata": {}
        }
      ]
    },
    {
      "cell_type": "code",
      "source": [
        "media =mean (fabrica1)\n",
        "mediana=median(fabrica1)\n",
        "moda=mode(fabrica1)\n",
        "print(\"valores de la fabrica 1\")\n",
        "print(\"la media es\",media)\n",
        "print(\"la mediana es\",mediana)\n",
        "print(\"la moda es\",moda)"
      ],
      "metadata": {
        "colab": {
          "base_uri": "https://localhost:8080/"
        },
        "id": "3kDaz810f285",
        "outputId": "fc27ee94-db46-490f-d7a8-cccfaf7ff130"
      },
      "execution_count": 90,
      "outputs": [
        {
          "output_type": "stream",
          "name": "stdout",
          "text": [
            "valores de la fabrica 1\n",
            "la media es 75.8533\n",
            "la mediana es 77.025\n",
            "la moda es 98.42\n"
          ]
        }
      ]
    },
    {
      "cell_type": "code",
      "source": [
        "media =mean (fabrica2)\n",
        "mediana=median(fabrica2)\n",
        "moda=mode(fabrica2)\n",
        "print(\"valores de la fabrica 2\")\n",
        "print(\"la media es\",media)\n",
        "print(\"la mediana es\",mediana)\n",
        "print(\"la moda es\",moda)"
      ],
      "metadata": {
        "colab": {
          "base_uri": "https://localhost:8080/"
        },
        "id": "VTZhtt_Wgop7",
        "outputId": "965a5929-2d04-47d9-d800-3a987bbc2acc"
      },
      "execution_count": 91,
      "outputs": [
        {
          "output_type": "stream",
          "name": "stdout",
          "text": [
            "valores de la fabrica 2\n",
            "la media es 75.7888\n",
            "la mediana es 74.235\n",
            "la moda es 66.55\n"
          ]
        }
      ]
    },
    {
      "cell_type": "code",
      "source": [
        "fig,(ax1,ax2)=plt.subplots(nrows=1, ncols=2)"
      ],
      "metadata": {
        "colab": {
          "base_uri": "https://localhost:8080/",
          "height": 435
        },
        "id": "MFUne9RYhEXR",
        "outputId": "d4687149-f6bf-46fd-a558-4b8e80ddfecb"
      },
      "execution_count": 92,
      "outputs": [
        {
          "output_type": "display_data",
          "data": {
            "text/plain": [
              "<Figure size 640x480 with 2 Axes>"
            ],
            "image/png": "[encoded data removed]"
          },
          "metadata": {}
        }
      ]
    },
    {
      "cell_type": "code",
      "source": [
        "fig,(ax1,ax2)=plt.subplots(nrows=1, ncols=2, figsize=(10,5))\n",
        "ax1.hist(fabrica1)\n",
        "ax2.hist(fabrica2)\n",
        "plt.show()"
      ],
      "metadata": {
        "id": "WcHD1CmSsx7d",
        "colab": {
          "base_uri": "https://localhost:8080/",
          "height": 445
        },
        "outputId": "103b6a1a-46ab-4741-d26c-2397db7c2ed6"
      },
      "execution_count": 93,
      "outputs": [
        {
          "output_type": "display_data",
          "data": {
            "text/plain": [
              "<Figure size 1000x500 with 2 Axes>"
            ],
            "image/png": "[encoded data removed]"
          },
          "metadata": {}
        }
      ]
    },
    {
      "cell_type": "code",
      "source": [
        "media1 =mean (fabrica1)\n",
        "mediana1=median(fabrica1)\n",
        "moda1=mode(fabrica1)\n",
        "plt.hist(fabrica1, bins=10, alpha=0.2,color=\"b\", edgecolor=\"black\")\n",
        "plt.axvline(media1, color=\"b\", linestyle=\"dashed\", linewidth=2, label=\"media\")\n",
        "plt.axvline(mediana1, color=\"r\", linestyle=\"dashed\", linewidth=2, label=\"mediana\")\n",
        "plt.axvline(moda1, color=\"y\", linestyle=\"dashed\", linewidth=2, label=\"moda\")\n",
        "plt.xlabel=(\"valor\")\n",
        "plt.ylabel=(\"frecuencia\")\n",
        "plt.title(\"producion de la fabrica 1\")\n",
        "plt.legend()\n",
        "plt.show()"
      ],
      "metadata": {
        "colab": {
          "base_uri": "https://localhost:8080/",
          "height": 452
        },
        "id": "XL9Ol8RHoMXH",
        "outputId": "ace16996-4d4b-4214-cf8e-78275f0d5a06"
      },
      "execution_count": 94,
      "outputs": [
        {
          "output_type": "display_data",
          "data": {
            "text/plain": [
              "<Figure size 640x480 with 1 Axes>"
            ],
            "image/png": "[encoded data removed]"
          },
          "metadata": {}
        }
      ]
    },
    {
      "cell_type": "code",
      "source": [
        "media2 =mean (fabrica2)\n",
        "mediana2=median(fabrica2)\n",
        "moda2=mode(fabrica2)\n",
        "plt.hist(fabrica2, bins=10, alpha=0.2,color=\"b\", edgecolor=\"black\")\n",
        "plt.axvline(media2, color=\"b\", linestyle=\"dashed\", linewidth=2, label=\"media\")\n",
        "plt.axvline(mediana2, color=\"r\", linestyle=\"dashed\", linewidth=2, label=\"mediana\")\n",
        "plt.axvline(moda2, color=\"y\", linestyle=\"dashed\", linewidth=2, label=\"moda\")\n",
        "plt.xlabel=(\"valor\")\n",
        "plt.ylabel=(\"frecuencia\")\n",
        "plt.title(\"producion de la fabrica 2\")\n",
        "plt.legend()\n",
        "plt.show()"
      ],
      "metadata": {
        "colab": {
          "base_uri": "https://localhost:8080/",
          "height": 452
        },
        "id": "uNs_Y-S7uchB",
        "outputId": "5dcd1c67-4061-4b73-c747-9fb7b8064cfb"
      },
      "execution_count": 95,
      "outputs": [
        {
          "output_type": "display_data",
          "data": {
            "text/plain": [
              "<Figure size 640x480 with 1 Axes>"
            ],
            "image/png": "[encoded data removed]"
          },
          "metadata": {}
        }
      ]
    }
  ]
}